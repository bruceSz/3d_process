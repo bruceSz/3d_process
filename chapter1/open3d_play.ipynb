{
 "cells": [
  {
   "cell_type": "code",
   "execution_count": 13,
   "id": "7c7f8cf7",
   "metadata": {},
   "outputs": [
    {
     "ename": "AttributeError",
     "evalue": "'open3d.cpu.pybind.utility.Vector3dVector' object has no attribute 'shape'",
     "output_type": "error",
     "traceback": [
      "\u001b[0;31m---------------------------------------------------------------------------\u001b[0m",
      "\u001b[0;31mAttributeError\u001b[0m                            Traceback (most recent call last)",
      "\u001b[0;32m/tmp/ipykernel_22374/967899339.py\u001b[0m in \u001b[0;36m<module>\u001b[0;34m\u001b[0m\n\u001b[1;32m     13\u001b[0m \u001b[0mdownpcd\u001b[0m \u001b[0;34m=\u001b[0m \u001b[0mpcd\u001b[0m\u001b[0;34m.\u001b[0m\u001b[0mvoxel_down_sample\u001b[0m\u001b[0;34m(\u001b[0m \u001b[0mvoxel_size\u001b[0m\u001b[0;34m=\u001b[0m\u001b[0;36m0.05\u001b[0m\u001b[0;34m)\u001b[0m\u001b[0;34m\u001b[0m\u001b[0;34m\u001b[0m\u001b[0m\n\u001b[1;32m     14\u001b[0m \u001b[0;31m#o3d.visualization.draw_geometries([downpcd])\u001b[0m\u001b[0;34m\u001b[0m\u001b[0;34m\u001b[0m\u001b[0m\n\u001b[0;32m---> 15\u001b[0;31m \u001b[0mdownpcd\u001b[0m\u001b[0;34m.\u001b[0m\u001b[0mpoints\u001b[0m\u001b[0;34m.\u001b[0m\u001b[0mshape\u001b[0m\u001b[0;34m\u001b[0m\u001b[0;34m\u001b[0m\u001b[0m\n\u001b[0m",
      "\u001b[0;31mAttributeError\u001b[0m: 'open3d.cpu.pybind.utility.Vector3dVector' object has no attribute 'shape'"
     ]
    }
   ],
   "source": [
    "import os\n",
    "import open3d  as o3d\n",
    "import numpy as np\n",
    "\n",
    "os.listdir(\"./\")\n",
    "data_path = os.path.join(\".\", \"dataset\", \"fragment.ply\")\n",
    "os.path.exists(data_path)\n",
    "pcd = o3d.io.read_point_cloud(data_path)\n",
    "type(pcd)\n",
    "da = np.asarray(pcd.points)\n",
    "da.shape\n",
    "\n",
    "downpcd = pcd.voxel_down_sample( voxel_size=0.05)\n",
    "#o3d.visualization.draw_geometries([downpcd])\n",
    "downpcd.points.shape"
   ]
  }
 ],
 "metadata": {
  "kernelspec": {
   "display_name": "Python 3 (ipykernel)",
   "language": "python",
   "name": "python3"
  },
  "language_info": {
   "codemirror_mode": {
    "name": "ipython",
    "version": 3
   },
   "file_extension": ".py",
   "mimetype": "text/x-python",
   "name": "python",
   "nbconvert_exporter": "python",
   "pygments_lexer": "ipython3",
   "version": "3.9.7"
  }
 },
 "nbformat": 4,
 "nbformat_minor": 5
}
