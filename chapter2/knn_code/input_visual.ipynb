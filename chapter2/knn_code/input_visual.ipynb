{
 "cells": [
  {
   "cell_type": "code",
   "execution_count": 3,
   "id": "b30a09df",
   "metadata": {},
   "outputs": [
    {
     "name": "stdout",
     "output_type": "stream",
     "text": [
      "['.ipynb_checkpoints', '000000.bin', 'assignment', 'input_visual.ipynb', 'Untitled.ipynb', 'utils.py', '__pycache__']\n",
      "(249336,)\n",
      "(83112, 3)\n"
     ]
    }
   ],
   "source": [
    "import utils\n",
    "import os\n",
    "import numpy as np\n",
    "print(os.listdir())\n",
    "fpath = os.path.join('.',\"000000.bin\")\n",
    "\n",
    "h = np.fromfile(fpath)\n",
    "print(h.shape)\n",
    "da = h.reshape(-1,3)\n",
    "print(da.shape)\n",
    "\n",
    "utils.plot_pcd_from_pts(da)"
   ]
  },
  {
   "cell_type": "code",
   "execution_count": null,
   "id": "8fb300c3",
   "metadata": {},
   "outputs": [],
   "source": []
  }
 ],
 "metadata": {
  "kernelspec": {
   "display_name": "Python 3 (ipykernel)",
   "language": "python",
   "name": "python3"
  },
  "language_info": {
   "codemirror_mode": {
    "name": "ipython",
    "version": 3
   },
   "file_extension": ".py",
   "mimetype": "text/x-python",
   "name": "python",
   "nbconvert_exporter": "python",
   "pygments_lexer": "ipython3",
   "version": "3.9.0"
  }
 },
 "nbformat": 4,
 "nbformat_minor": 5
}
